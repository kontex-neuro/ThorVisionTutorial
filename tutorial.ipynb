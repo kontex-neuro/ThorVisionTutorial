{
 "cells": [
  {
   "cell_type": "markdown",
   "metadata": {},
   "source": [
    "# Tutorial: Access to ThorVision Video Data"
   ]
  },
  {
   "cell_type": "markdown",
   "metadata": {},
   "source": [
    "This notebook demonstrates how to read ThorVision video metadata from XDAQ (.bin), and extract its corresponding frame."
   ]
  },
  {
   "cell_type": "markdown",
   "metadata": {},
   "source": [
    "## Step 1: Load Demo Data"
   ]
  },
  {
   "cell_type": "markdown",
   "metadata": {},
   "source": []
  },
  {
   "cell_type": "code",
   "execution_count": null,
   "metadata": {},
   "outputs": [],
   "source": [
    "import urllib.request\n",
    "import zipfile\n",
    "from pathlib import Path\n",
    "import os\n",
    "\n",
    "# Define URL and filenames\n",
    "DATA_URL = \"https://xvc001.sgp1.digitaloceanspaces.com/xdaq_demo_data.zip\"\n",
    "DATA_FILENAME = \"xdaq_demo_data.zip\"\n",
    "zip_path = Path(DATA_FILENAME)\n",
    "\n",
    "# Download the data if it doesn't exist locally\n",
    "if not zip_path.exists():\n",
    "    print(f\"Downloading {DATA_URL}...\")\n",
    "    urllib.request.urlretrieve(DATA_URL, zip_path)\n",
    "    print(\"Download complete.\")\n",
    "else:\n",
    "    print(f\"'{DATA_FILENAME}' already exists, skipping download.\")\n",
    "\n",
    "# Unzip the data\n",
    "if not Path(\"data/video_data\").exists() or not Path(\"data/test.rhd\").exists():\n",
    "    print(f\"Extracting {zip_path}...\")\n",
    "    with zipfile.ZipFile(zip_path, 'r') as zip_ref:\n",
    "        zip_ref.extractall(\".\")\n",
    "    print(\"Extraction complete.\")\n",
    "else:\n",
    "    print(\"Data already extracted, skipping extraction.\")\n",
    "\n",
    "# Define paths for the rest of the notebook\n",
    "video_folder = \"data/video_data\"\n",
    "rhd_file = \"data/test.rhd\"\n",
    "\n",
    "print(f\"Data is ready.\")\n",
    "print(f\"Video folder: {os.path.abspath(video_folder)}\")\n",
    "print(f\"RHD file: {os.path.abspath(rhd_file)}\")"
   ]
  },
  {
   "cell_type": "markdown",
   "metadata": {},
   "source": [
    "## Step 2: Read XDAQ Metadata"
   ]
  },
  {
   "cell_type": "markdown",
   "metadata": {},
   "source": [
    "Now that we have the data, we'll read the video metadata from a `.bin` file. We need to find the `.bin` file in our `video_folder`."
   ]
  },
  {
   "cell_type": "code",
   "execution_count": null,
   "metadata": {},
   "outputs": [],
   "source": [
    "import os\n",
    "import numpy as np\n",
    "\n",
    "# Define a structured dtype for the metadata\n",
    "metadata_dtype = np.dtype([\n",
    "    ('fpga_timestamp', np.uint64),\n",
    "    ('rhythm_timestamp', np.uint32),\n",
    "    ('ttl_in', np.uint32),\n",
    "    ('ttl_out', np.uint32),\n",
    "    ('spi_perf_counter', np.uint32),\n",
    "    ('reserved', np.uint64)\n",
    "])\n",
    "\n",
    "# Create the full dtype with a nested metadata field.\n",
    "record_dtype = np.dtype([\n",
    "    ('video_timestamp', np.uint64),\n",
    "    ('metadata', metadata_dtype)\n",
    "])\n",
    "\n",
    "def read_XDAQFrameData(filename: str) -> np.ndarray:\n",
    "    with open(filename, 'rb') as f:\n",
    "        data = f.read()\n",
    "        \n",
    "    # Convert binary blob directly into an array using the structured dtype.\n",
    "    return np.frombuffer(data, dtype=record_dtype)\n",
    "\n",
    "# Find the first .bin file in the video folder\n",
    "metadata_file = None\n",
    "for f in os.listdir(video_folder):\n",
    "    if f.endswith('.bin'):\n",
    "        metadata_file = os.path.join(video_folder, f)\n",
    "        break\n",
    "\n",
    "if metadata_file:\n",
    "    xdaq_data = read_XDAQFrameData(metadata_file)\n",
    "    print(f\"Successfully loaded XDAQ metadata from {metadata_file}\")\n",
    "    print(f\"Number of frames: {len(xdaq_data)}\")\n",
    "    print(\"--- First metadata record ---\")\n",
    "    print('video_timestamp:', xdaq_data[0]['video_timestamp'])\n",
    "    print('fpga_timestamp:', xdaq_data[0]['metadata']['fpga_timestamp'])\n",
    "    print('rhythm_timestamp:', xdaq_data[0]['metadata']['rhythm_timestamp'])\n",
    "    print('ttl_in:', xdaq_data[0]['metadata']['ttl_in'])\n",
    "    print('ttl_out:', xdaq_data[0]['metadata']['ttl_out'])\n",
    "    print('spi_perf_counter:', xdaq_data[0]['metadata']['spi_perf_counter'])\n",
    "    print('reserved:', xdaq_data[0]['metadata']['reserved'])\n",
    "else:\n",
    "    print(\"No .bin metadata file found in the video folder.\")\n",
    "    "
   ]
  },
  {
   "cell_type": "code",
   "execution_count": null,
   "metadata": {},
   "outputs": [],
   "source": [
    "import cv2\n",
    "import matplotlib.pyplot as plt\n",
    "\n",
    "# Construct the video file path from the metadata file path\n",
    "video_file, _ = os.path.splitext(metadata_file)\n",
    "video_file += '.mkv'\n",
    "\n",
    "if not os.path.exists(video_file):\n",
    "    print(f\"Video file not found at: {video_file}\")\n",
    "else:\n",
    "    # Select a frame to display\n",
    "    frame_to_show = 150\n",
    "\n",
    "    cap = cv2.VideoCapture(video_file)\n",
    "    if not cap.isOpened():\n",
    "        print(\"Error: Could not open video file.\")\n",
    "    else:\n",
    "        # Set the video capture to the desired frame\n",
    "        cap.set(cv2.CAP_PROP_POS_FRAMES, frame_to_show)\n",
    "        ret, frame = cap.read()\n",
    "\n",
    "        if ret:\n",
    "            # OpenCV loads images in BGR format, so we convert to RGB for display\n",
    "            frame_rgb = cv2.cvtColor(frame, cv2.COLOR_BGR2RGB)\n",
    "\n",
    "            # Display the frame\n",
    "            plt.figure(figsize=(10, 8))\n",
    "            plt.imshow(frame_rgb)\n",
    "            plt.title(f'Frame {frame_to_show} from {os.path.basename(video_file)}')\n",
    "            plt.axis('off')\n",
    "            plt.show()\n",
    "            \n",
    "            # Print corresponding metadata\n",
    "            print(f\"--- Metadata for Frame {frame_to_show} ---\")\n",
    "            metadata_record = xdaq_data[frame_to_show]\n",
    "            print(f'video_timestamp: {metadata_record[\"video_timestamp\"]}')\n",
    "            for field in metadata_record['metadata'].dtype.names:\n",
    "                print(f'{field}: {metadata_record[\"metadata\"][field]}')\n",
    "\n",
    "        else:\n",
    "            print(f\"Error: Could not read frame {frame_to_show}.\")\n",
    "            \n",
    "        cap.release()"
   ]
  }
 ],
 "metadata": {
  "kernelspec": {
   "display_name": "Python 3 (ipykernel)",
   "language": "python",
   "name": "python3"
  },
  "language_info": {
   "codemirror_mode": {
    "name": "ipython",
    "version": 3
   },
   "file_extension": ".py",
   "mimetype": "text/x-python",
   "name": "python",
   "nbconvert_exporter": "python",
   "pygments_lexer": "ipython3",
   "version": "3.12.4"
  }
 },
 "nbformat": 4,
 "nbformat_minor": 4
}
